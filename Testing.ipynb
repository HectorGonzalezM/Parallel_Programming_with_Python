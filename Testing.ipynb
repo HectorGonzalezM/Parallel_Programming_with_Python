{
 "cells": [
  {
   "cell_type": "markdown",
   "metadata": {},
   "source": [
    "## Import Functions\n",
    "Import the necessary functions from each script file."
   ]
  },
  {
   "cell_type": "code",
   "execution_count": 2,
   "metadata": {},
   "outputs": [],
   "source": [
    "from pure import approximate_pi\n",
    "from multi import parallel_pi\n",
    "# Note: MPI-based scripts is not executable in this (my computer at least) Jupyter environment."
   ]
  },
  {
   "cell_type": "markdown",
   "metadata": {},
   "source": [
    "## Method 1: Single-threaded Approximation\n",
    "Using the `pure.py` script to approximate Pi using NumPy and a simple Riemann sum approach."
   ]
  },
  {
   "cell_type": "code",
   "execution_count": 5,
   "metadata": {},
   "outputs": [
    {
     "name": "stdout",
     "output_type": "stream",
     "text": [
      "CPU times: user 401 ms, sys: 317 ms, total: 718 ms\n",
      "Wall time: 718 ms\n"
     ]
    },
    {
     "data": {
      "text/plain": [
       "3.141592673588603"
      ]
     },
     "execution_count": 5,
     "metadata": {},
     "output_type": "execute_result"
    }
   ],
   "source": [
    "# Testing with a smaller N for demonstration\n",
    "N = 100000000\n",
    "# Timing\n",
    "%time approximate_pi(N)"
   ]
  },
  {
   "cell_type": "markdown",
   "metadata": {},
   "source": [
    "## Method 2: Multiprocessing Approximation\n",
    "Using the `multi.py` script to parallelize Pi approximation across multiple processors."
   ]
  },
  {
   "cell_type": "code",
   "execution_count": 6,
   "metadata": {},
   "outputs": [
    {
     "name": "stdout",
     "output_type": "stream",
     "text": [
      "CPU times: user 1.06 ms, sys: 13.4 ms, total: 14.5 ms\n",
      "Wall time: 258 ms\n"
     ]
    },
    {
     "data": {
      "text/plain": [
       "3.141592670770785"
      ]
     },
     "execution_count": 6,
     "metadata": {},
     "output_type": "execute_result"
    }
   ],
   "source": [
    "num_processes = 4  # Adjust based on your machine's CPU cores\n",
    "# Timing\n",
    "%time parallel_pi(N, num_processes)"
   ]
  },
  {
   "cell_type": "markdown",
   "metadata": {},
   "source": [
    "## Method 3: MPI-Based Approximation\n",
    "The MPI method must be run outside of Jupyter. Below is a command to run it in a terminal."
   ]
  },
  {
   "cell_type": "markdown",
   "metadata": {},
   "source": [
    "![Description or Alt text](/home/toru/Desktop/hpcfinal/ss.png)"
   ]
  },
  {
   "cell_type": "markdown",
   "metadata": {},
   "source": [
    "mpirun -n 4 python3 mpi_script.py"
   ]
  }
 ],
 "metadata": {
  "kernelspec": {
   "display_name": "Python 3",
   "language": "python",
   "name": "python3"
  },
  "language_info": {
   "codemirror_mode": {
    "name": "ipython",
    "version": 3
   },
   "file_extension": ".py",
   "mimetype": "text/x-python",
   "name": "python",
   "nbconvert_exporter": "python",
   "pygments_lexer": "ipython3",
   "version": "3.10.12"
  }
 },
 "nbformat": 4,
 "nbformat_minor": 2
}
